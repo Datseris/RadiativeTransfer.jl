{
 "cells": [
  {
   "cell_type": "markdown",
   "metadata": {},
   "source": [
    "## Simple Mie Phase function tutorial\n",
    "This is just the first test, more to follow. \n",
    "\n",
    "---\n",
    "In the following, we will just walk through how to compute greek coefficients (which will be require for radiative transfer calculations) as well as actual phase matrices from the Mie theory."
   ]
  },
  {
   "cell_type": "markdown",
   "metadata": {},
   "source": [
    "---\n",
    "First let's use the required packages"
   ]
  },
  {
   "cell_type": "code",
   "execution_count": null,
   "metadata": {},
   "outputs": [],
   "source": [
    "using RadiativeTransfer.PhaseFunction\n",
    "using Distributions\n",
    "using Plots"
   ]
  },
  {
   "cell_type": "code",
   "execution_count": null,
   "metadata": {},
   "outputs": [],
   "source": [
    "# Aerosol particle distribution and properties \n",
    "μ  = 0.3        # Log-normal median radius [μm]\n",
    "σ  = 2.0        # Log-normal stddev of radius\n",
    "r_max = 30.0    # Maximum radius [μm]\n",
    "n  = 2500       # Number of quadrature points for integrating of size dist.\n",
    "nᵣ = 1.3        # Real part of refractive index\n",
    "nᵢ = 0.0        # Imag part of refractive index (sign changed, use only + here)\n",
    "\n",
    "# Create a Size Distribution (from Julia's Distributions package)\n",
    "size_distribution = LogNormal(log(μ), log(σ))\n",
    "\n",
    "# Create the aerosol\n",
    "aero = make_univariate_aerosol(size_distribution, r_max, n, nᵣ, nᵢ)"
   ]
  },
  {
   "cell_type": "code",
   "execution_count": null,
   "metadata": {},
   "outputs": [],
   "source": [
    "λ = 0.55                             # Incident wavelength [μm]\n",
    "polarization_type = Stokes_IQUV()    # Polarization type \n",
    "truncation_type   = δBGE(20, 2)      # Truncation type"
   ]
  },
  {
   "cell_type": "code",
   "execution_count": null,
   "metadata": {},
   "outputs": [],
   "source": [
    "# Create a Mie model, using the Siewert method NAI2\n",
    "model_NAI2 = make_mie_model(NAI2(), aero, λ, polarization_type, truncation_type)"
   ]
  },
  {
   "cell_type": "code",
   "execution_count": null,
   "metadata": {},
   "outputs": [],
   "source": [
    "# Compute aerosol optical properties:\n",
    "aerosol_optics_NAI2 = compute_aerosol_optical_properties(model_NAI2);"
   ]
  },
  {
   "cell_type": "markdown",
   "metadata": {},
   "source": [
    "--- \n",
    "simple example of how to use the Documentation, add `?` in front and get the DocStrings of aerosol_optics_NAI2 :\n"
   ]
  },
  {
   "cell_type": "code",
   "execution_count": null,
   "metadata": {},
   "outputs": [],
   "source": [
    "?aerosol_optics_NAI2"
   ]
  },
  {
   "cell_type": "markdown",
   "metadata": {},
   "source": [
    "---\n",
    "### Let's plot the greek coefficients\n",
    "which are basically giving us the legendre decomposition of the phase matrix components:"
   ]
  },
  {
   "cell_type": "code",
   "execution_count": null,
   "metadata": {},
   "outputs": [],
   "source": [
    "using Parameters\n",
    "@unpack α,β,γ,δ,ϵ,ζ = aerosol_optics_NAI2.greek_coefs\n",
    "p1 = plot(α,  title=\"α\")\n",
    "p2 = plot(β,  title=\"β\")\n",
    "p3 = plot(γ,  title=\"γ\")\n",
    "p4 = plot(δ,  title=\"δ\")\n",
    "p5 = plot(ϵ,  title=\"ϵ\")\n",
    "p6 = plot(ζ,  title=\"ζ\")\n",
    "plot(p1, p2, p3, p4, p5, p6, layout=(3, 2), legend=false)\n",
    "xlims!(0,100)"
   ]
  },
  {
   "cell_type": "code",
   "execution_count": null,
   "metadata": {},
   "outputs": [],
   "source": [
    "using FastGaussQuadrature\n",
    "μ, w_μ = gausslegendre(1000)\n",
    "# Reconstruct Phase Functions from greek coefficients (overkill for Siewert, mostly for Wigner method)\n",
    "f₁₁, f₁₂, f₂₂, f₃₃, f₃₄, f₄₄ = PhaseFunction.reconstruct_phase(aerosol_optics_NAI2.greek_coefs, μ);"
   ]
  },
  {
   "cell_type": "markdown",
   "metadata": {},
   "source": [
    "---\n",
    "#### Plot only phase function for I (f₁₁) and the I -> Q transition in the phase matrix (f₁₂) for the Stokes Vector [I,Q,U,V]"
   ]
  },
  {
   "cell_type": "code",
   "execution_count": null,
   "metadata": {},
   "outputs": [],
   "source": [
    "\n",
    "p1 = plot(μ, f₁₁, yscale=:log10, title=\"f₁₁\")\n",
    "p2 = plot(μ, f₁₂ ./ f₁₁,  title=\"f₁₂/f₁₁\")\n",
    "\n",
    "plot(p1, p2, layout=(2, 1), legend=false)\n",
    "xlabel!(\"cos(Θ)\")"
   ]
  },
  {
   "cell_type": "code",
   "execution_count": null,
   "metadata": {},
   "outputs": [],
   "source": [
    "anim = @animate for r = 0.3:0.2:5\n",
    "    local size_distribution = LogNormal(log(r), log(σ))\n",
    "    # Create the aerosol\n",
    "    local aero       = make_univariate_aerosol(size_distribution, r_max, n, nᵣ, nᵢ)\n",
    "    local model_NAI2 = make_mie_model(NAI2(), aero, λ, polarization_type, truncation_type)\n",
    "    local aerosol_optics_NAI2 = compute_aerosol_optical_properties(model_NAI2);\n",
    "    local f₁₁, f₁₂, f₂₂, f₃₃, f₃₄, f₄₄ = PhaseFunction.reconstruct_phase(aerosol_optics_NAI2.greek_coefs, μ);\n",
    "    # @show f₁₁[1]\n",
    "    p1 = plot(μ, f₁₁, yscale=:log10, title=\"f₁₁\", label=\"r(μm)=$r\")\n",
    "    ylims!(1e-3, 1e3)\n",
    "    p2 = plot(μ, f₁₂ ./ f₁₁,  title=\"f₁₂/f₁₁\", label=\"Q/I\")\n",
    "    ylims!(-1.1, 1.1)\n",
    "    plot(p1, p2, layout=(2, 1))\n",
    "end"
   ]
  },
  {
   "cell_type": "code",
   "execution_count": null,
   "metadata": {},
   "outputs": [],
   "source": [
    "gif(anim, fps = 5)"
   ]
  },
  {
   "cell_type": "code",
   "execution_count": null,
   "metadata": {},
   "outputs": [],
   "source": []
  }
 ],
 "metadata": {
  "@webio": {
   "lastCommId": null,
   "lastKernelId": null
  },
  "kernelspec": {
   "display_name": "Julia 1.5.2",
   "language": "julia",
   "name": "julia-1.5"
  },
  "language_info": {
   "file_extension": ".jl",
   "mimetype": "application/julia",
   "name": "julia",
   "version": "1.5.2"
  }
 },
 "nbformat": 4,
 "nbformat_minor": 2
}
