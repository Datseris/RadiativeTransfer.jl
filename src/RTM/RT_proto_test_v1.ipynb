{
 "metadata": {
  "language_info": {
   "codemirror_mode": {
    "name": "ipython",
    "version": 3
   },
   "file_extension": ".py",
   "mimetype": "text/x-python",
   "name": "python",
   "nbconvert_exporter": "python",
   "pygments_lexer": "ipython3",
   "version": 3
  },
  "orig_nbformat": 2,
  "kernelspec": {
   "name": "julia-1.5",
   "display_name": "Julia 1.5.2"
  }
 },
 "nbformat": 4,
 "nbformat_minor": 2,
 "cells": [
  {
   "cell_type": "code",
   "execution_count": 43,
   "metadata": {},
   "outputs": [
    {
     "output_type": "execute_result",
     "data": {
      "text/plain": [
       "UnivariateAerosol{Float64,Float64}(LogNormal{Float64}(μ=-1.2039728043259361, σ=1.9198594718553708), 30.0, 2500, 1.3, 0.001)"
      ]
     },
     "metadata": {},
     "execution_count": 43
    }
   ],
   "source": [
    "using Revise\n",
    "using RadiativeTransfer\n",
    "using RadiativeTransfer.PhaseFunction\n",
    "\n",
    "# ? Should we make a wrapper around LogNormal?\n",
    "using Distributions\n",
    "# using BenchmarkTools\n",
    "\n",
    "## \n",
    "## STEP 1: Create the Aerosol\n",
    "## \n",
    "\n",
    "# Aerosol particle distribution and properties \n",
    "μ  = 0.3                # Log mean radius\n",
    "σ  = 6.82               # Log stddev of radius\n",
    "r_max = 30.0            # Maximum radius\n",
    "nquad_radius = 2500     # Number of quadrature points for integrating of size dist.\n",
    "nᵣ = 1.3                # Real part of refractive index\n",
    "nᵢ = 0.001                # Imag part of refractive index\n",
    "\n",
    "size_distribution = LogNormal(log(μ), log(σ))\n",
    "\n",
    "# Create the aerosol\n",
    "aero = make_univariate_aerosol(size_distribution, r_max, nquad_radius, nᵣ, nᵢ)\n"
   ]
  },
  {
   "cell_type": "code",
   "execution_count": 44,
   "metadata": {},
   "outputs": [
    {
     "output_type": "execute_result",
     "data": {
      "text/plain": [
       "δBGE{Float64}(160, 2.0)"
      ]
     },
     "metadata": {},
     "execution_count": 44
    }
   ],
   "source": [
    "λ = 0.55   # Incident wavelength\n",
    "polarization_type = Stokes_IQUV()\n",
    "truncation_type   = δBGE(160, 2.0)"
   ]
  },
  {
   "cell_type": "code",
   "execution_count": 45,
   "metadata": {},
   "outputs": [
    {
     "output_type": "execute_result",
     "data": {
      "text/plain": [
       "MieModel{NAI2}\n",
       "  computation_type: NAI2 NAI2()\n",
       "  aerosol: UnivariateAerosol{Float64,Float64}\n",
       "  λ: Float64 0.55\n",
       "  polarization_type: Stokes_IQUV Stokes_IQUV()\n",
       "  truncation_type: δBGE{Float64}\n",
       "  wigner_A: Array{Float64}((1, 1, 1)) [0.0]\n",
       "  wigner_B: Array{Float64}((1, 1, 1)) [0.0]\n"
      ]
     },
     "metadata": {},
     "execution_count": 45
    }
   ],
   "source": [
    "model_NAI2 = make_mie_model(NAI2(), aero, λ, polarization_type, truncation_type)"
   ]
  },
  {
   "cell_type": "code",
   "execution_count": 46,
   "metadata": {},
   "outputs": [
    {
     "output_type": "stream",
     "name": "stderr",
     "text": [
      "┌ Info: Fraction of size distribution cut by max radius: 0.8226655996648291 %\n",
      "└ @ RadiativeTransfer.PhaseFunction /Users/sanghavi/GDrive/code/github/RadiativeTransfer.jl/src/PhaseFunction/mie_helper_functions.jl:263\n",
      "\u001b[32mComputing PhaseFunctions Siewert NAI-2 style ...100%|███| Time: 0:00:01\u001b[39m\n"
     ]
    }
   ],
   "source": [
    "aerosol_optics_NAI2 = compute_aerosol_optical_properties(model_NAI2);"
   ]
  },
  {
   "cell_type": "code",
   "execution_count": 47,
   "metadata": {},
   "outputs": [
    {
     "output_type": "execute_result",
     "data": {
      "text/plain": [
       "AerosolOptics{Float64}\n",
       "  greek_coefs: GreekCoefs{Float64}\n",
       "  ω̃: Float64 -1.3759941612017619\n",
       "  k: Float64 -1647.0816476289463\n",
       "  derivs: Array{Float64}((1,)) [0.0]\n"
      ]
     },
     "metadata": {},
     "execution_count": 47
    }
   ],
   "source": [
    "# Truncate:\n",
    "aerosol_optics_trunc = PhaseFunction.truncate_phase(truncation_type, aerosol_optics_NAI2)"
   ]
  },
  {
   "cell_type": "code",
   "execution_count": 42,
   "metadata": {},
   "outputs": [
    {
     "output_type": "execute_result",
     "data": {
      "text/plain": [
       "([0.16298269148936995, 0.14225498932267744, 0.13036325524129816, 0.12198832940936742, 0.11613930312655452, 0.11170500567480003, 0.10755990632629152, 0.10400508382392869, 0.1004176910450943, 0.09721450416282136  …  120.87653775203351, 164.69741430377897, 222.58446416132048, 332.0523669942334, 495.4598040112732, 847.3409748823537, 1536.8231379214337, 3397.6944691857493, 10330.520536329228, 21642.971237428777], [0.005204146118142419, 0.014602435314904728, 0.013605824036580352, 0.009542007858251307, 0.005111238970920529, 0.0008770224435922724, -0.0024684044242297754, -0.005369873951397063, -0.0075340154668958334, -0.009337148037357275  …  0.32761161618552237, 0.3331321332713996, 0.33374269179775573, 0.314596613452137, 0.28018823717318264, 0.17060617176718754, 0.05213855850372077, -0.4430508026865569, -1.0002066563709744, -0.425251170734261], [0.16298269744575178, 0.14225498471810716, 0.13036325538421356, 0.12198832941396343, 0.11613930243577153, 0.1117050056993869, 0.1075599063190964, 0.10400508398789499, 0.10041769099366182, 0.09721450420920097  …  120.87653775274464, 164.69741430293573, 222.58446416242555, 332.05236699317675, 495.45980401258953, 847.3409748802021, 1536.82313792389, 3397.6944691803524, 10330.52053632294, 21642.97123745097], [-0.16213293507837512, -0.12740257719892312, -0.08828208391392445, -0.05999319034495443, -0.039990932678556135, -0.026070765114142525, -0.016438570529874186, -0.009461964752637497, -0.004555490382351923, -0.0008290385521989574  …  120.81214329938803, 164.63147941084026, 222.51356013423856, 331.9798976467903, 495.3815758400408, 847.2596750824059, 1536.7382241674914, 3397.598615206789, 10330.472908800657, 21642.9680806739], [-0.0025029993228764856, -0.008264168864475535, -0.010417153407778778, -0.010137373223913617, -0.009022843473681017, -0.0077156017937741175, -0.0065254317903800305, -0.005393682554712705, -0.004402254627037518, -0.0034878699283843423  …  -1.5865768702432268, -1.9804635977819385, -2.5299662656206037, -3.457305915762844, -4.514435324026467, -7.103664718934778, -9.752537806004376, -19.690872704908973, -28.70563303512458, -11.155085974826237], [-0.1621329410341068, -0.12740257259423643, -0.08828208405684901, -0.059993190349447466, -0.039990931987898375, -0.02607076513866611, -0.016438570522775208, -0.009461964916432666, -0.0045554903311054665, -0.0008290385982706208  …  120.81214329918271, 164.6314794110932, 222.5135601339917, 331.9798976470941, 495.3815758396767, 847.2596750819363, 1536.7382241665093, 3397.5986152114015, 10330.472908778393, 21642.968080696388], [1.0 -0.9999950134873713 … -0.0032832411441909466 0.0016405494476184241; 1.0 -0.9999737264552131 … 0.0049394649532069675 -0.0024681735687785192; … ; 1.0 0.9999737264552131 … -0.0049394649532069675 -0.0024681735687785192; 1.0 0.9999950134873713 … 0.0032832411441909466 0.0016405494476184241], [0.0 0.0 … -248467.46534184212 249416.28405645007; 0.0 0.0 … 68631.67695107021 -70059.09478075753; … ; 0.0 0.0 … -68631.67695107021 -70059.09478075753; 0.0 0.0 … 248467.46534184212 249416.28405645007])"
      ]
     },
     "metadata": {},
     "execution_count": 42
    }
   ],
   "source": [
    "μ, w_μ = gausslegendre(length(aerosol_optics_NAI2.greek_coefs.β));\n",
    "\n",
    "# Reconstruct phase matrix elements:\n",
    "f₁₁, f₁₂, f₂₂, f₃₃, f₃₄, f₄₄       = PhaseFunction.reconstruct_phase(aerosol_optics_NAI2.greek_coefs, μ);\n",
    "tf₁₁, tf₁₂, tf₂₂, tf₃₃, tf₃₄, tf₄₄ = PhaseFunction.reconstruct_phase(aerosol_optics_NAI2.greek_coefs, μ);"
   ]
  },
  {
   "cell_type": "code",
   "execution_count": 48,
   "metadata": {},
   "outputs": [
    {
     "output_type": "error",
     "ename": "LoadError",
     "evalue": "ArgumentError: Package Plots not found in current path:\n- Run `import Pkg; Pkg.add(\"Plots\")` to install the Plots package.\n",
     "traceback": [
      "ArgumentError: Package Plots not found in current path:\n- Run `import Pkg; Pkg.add(\"Plots\")` to install the Plots package.\n",
      "",
      "Stacktrace:",
      " [1] require(::Module, ::Symbol) at ./loading.jl:893",
      " [2] include_string(::Function, ::Module, ::String, ::String) at ./loading.jl:1091",
      " [3] execute_code(::String, ::String) at /Users/sanghavi/.julia/packages/IJulia/a1SNk/src/execute_request.jl:27",
      " [4] execute_request(::ZMQ.Socket, ::IJulia.Msg) at /Users/sanghavi/.julia/packages/IJulia/a1SNk/src/execute_request.jl:86",
      " [5] #invokelatest#1 at ./essentials.jl:710 [inlined]",
      " [6] invokelatest at ./essentials.jl:709 [inlined]",
      " [7] eventloop(::ZMQ.Socket) at /Users/sanghavi/.julia/packages/IJulia/a1SNk/src/eventloop.jl:8",
      " [8] (::IJulia.var\"#15#18\")() at ./task.jl:356"
     ]
    }
   ],
   "source": [
    "using Plots"
   ]
  },
  {
   "cell_type": "code",
   "execution_count": null,
   "metadata": {},
   "outputs": [],
   "source": [
    "plot(μ, f₁₁)"
   ]
  }
 ]
}