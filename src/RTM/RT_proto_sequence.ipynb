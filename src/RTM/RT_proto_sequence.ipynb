{
 "metadata": {
  "language_info": {
   "codemirror_mode": {
    "name": "ipython",
    "version": 3
   },
   "file_extension": ".py",
   "mimetype": "text/x-python",
   "name": "python",
   "nbconvert_exporter": "python",
   "pygments_lexer": "ipython3",
   "version": 3
  },
  "orig_nbformat": 2,
  "kernelspec": {
   "name": "julia-1.5",
   "display_name": "Julia 1.5.2"
  }
 },
 "nbformat": 4,
 "nbformat_minor": 2,
 "cells": [
  {
   "cell_type": "code",
   "execution_count": 3,
   "metadata": {},
   "outputs": [
    {
     "output_type": "stream",
     "name": "stderr",
     "text": [
      "┌ Info: Precompiling RadiativeTransfer [ace8185b-fa20-42f5-912d-1e850dbe6a09]\n└ @ Base loading.jl:1278\n"
     ]
    }
   ],
   "source": [
    "using Revise\n",
    "using RadiativeTransfer\n",
    "using RadiativeTransfer.PhaseFunction\n",
    "using RadiativeTransfer.RTM\n",
    "using Distributions"
   ]
  },
  {
   "cell_type": "code",
   "execution_count": 4,
   "metadata": {},
   "outputs": [
    {
     "output_type": "stream",
     "name": "stderr",
     "text": [
      "┌ Info: Fraction of size distribution cut by max radius: 1.5279000287193867e-9 %\n",
      "└ @ RadiativeTransfer.PhaseFunction /Users/sanghavi/GDrive/code/github/RadiativeTransfer.jl/src/PhaseFunction/mie_helper_functions.jl:263\n",
      "\u001b[32mComputing PhaseFunctions Siewert NAI-2 style ...100%|███| Time: 0:00:02\u001b[39m\n",
      "┌ Info: Fraction of size distribution cut by max radius: 0.00020406457610366857 %\n",
      "└ @ RadiativeTransfer.PhaseFunction /Users/sanghavi/GDrive/code/github/RadiativeTransfer.jl/src/PhaseFunction/mie_helper_functions.jl:263\n",
      "\u001b[32mComputing PhaseFunctions Siewert NAI-2 style ...100%|███| Time: 0:00:01\u001b[39m\n"
     ]
    },
    {
     "output_type": "execute_result",
     "data": {
      "text/plain": [
       "GreekCoefs{Float64}([0.0, 0.0, 3.0], [1.0, 0.0, 0.5], [0.0, 0.0, 1.224744871391589], [0.0, 1.5, 0.0], [0.0, 0.0, 0.0], [0.0, 0.0, 0.0])"
      ]
     },
     "metadata": {},
     "execution_count": 4
    }
   ],
   "source": [
    "\"Generate aerosol optical properties\"\n",
    "\n",
    "# Wavelength (just one for now)\n",
    "λ = 0.55       # Incident wavelength\n",
    "depol = 0.0\n",
    "# Truncation \n",
    "Ltrunc = 20             # Truncation  \n",
    "truncation_type   = δBGE(Ltrunc, 2.0)\n",
    "\n",
    "# polarization_type\n",
    "polarization_type = Stokes_IQUV()\n",
    "\n",
    "# Quadrature points for RTM\n",
    "Nquad, qp_μ, wt_μ = rt_set_streams(RTM.RadauQuad(), Ltrunc, 60.0, [0.0, 15.0, 30., 45., 60.])\n",
    "\n",
    "# Aerosol particle distribution and properties\n",
    "μ            = [0.3,2.0]       # Log mean radius\n",
    "σ            = [2.0,1.8]       # Log stddev of radius\n",
    "r_max        = [30.0,30.0]     # Maximum radius\n",
    "nquad_radius = [2500,2500]     # Number of quadrature points for integrating of size dist.\n",
    "nᵣ           = [1.3, 1.66]     # Real part of refractive index\n",
    "nᵢ           = [0.001,0.0003]  # Imag part of refractive index\n",
    "\n",
    "#Aerosol vertical distribution profiles\n",
    "p₀           = [50000., 20000.] # Pressure peak [Pa]\n",
    "σp          = [5000., 2000.]   # Pressure peak width [Pa]\n",
    "\n",
    "size_distribution = [LogNormal(log(μ[1]), log(σ[1])), LogNormal(log(μ[2]), log(σ[2]))]\n",
    "\n",
    "# Create the aerosols (needs to be generalized through loops):\n",
    "aero1 = make_univariate_aerosol(size_distribution[1], r_max[1], nquad_radius[1], nᵣ[1], nᵢ[1])\n",
    "aero2 = make_univariate_aerosol(size_distribution[2], r_max[2], nquad_radius[2], nᵣ[2], nᵢ[2])\n",
    "\n",
    "# Define some details, run aerosol optics\n",
    "model_NAI2_aero1 = make_mie_model(NAI2(), aero1, λ, polarization_type, truncation_type)\n",
    "aerosol_optics_NAI2_aero1 = compute_aerosol_optical_properties(model_NAI2_aero1);\n",
    "# Truncate:\n",
    "aerosol_optics_trunc_aero1 = PhaseFunction.truncate_phase(truncation_type, aerosol_optics_NAI2_aero1)\n",
    "\n",
    "# Define some details, run aerosol optics\n",
    "model_NAI2_aero2 = make_mie_model(NAI2(), aero2, λ, polarization_type, truncation_type)\n",
    "aerosol_optics_NAI2_aero2 = compute_aerosol_optical_properties(model_NAI2_aero2);\n",
    "# Truncate:\n",
    "aerosol_optics_trunc_aero2 = PhaseFunction.truncate_phase(truncation_type, aerosol_optics_NAI2_aero2)\n",
    "\n",
    "# Rayleigh Greek\n",
    "GreekRayleigh = PhaseFunction.get_greek_rayleigh(depol)\n"
   ]
  },
  {
   "cell_type": "code",
   "execution_count": 5,
   "metadata": {},
   "outputs": [
    {
     "output_type": "stream",
     "name": "stdout",
     "text": [
      "(sum(τAer_1), sum(τAer_2)) = (1.0, 0.30000000000000004)\n"
     ]
    }
   ],
   "source": [
    "\" Atmospheric Profiles, basics, needs to be refactore entirely\"\n",
    "file = \"/Users/sanghavi/GDrive/code/github/atm_profiles/MERRA300.prod.assim.inst6_3d_ana_Nv.20150613.hdf.nc4\"   \n",
    "timeIndex = 2 # There is 00, 06, 12 and 18 in UTC, i.e. 6 hourly data stacked together\n",
    "\n",
    "# What latitude do we want? \n",
    "myLat = 34.1377;\n",
    "myLon = -118.1253;\n",
    "\n",
    "# Read profile (and generate dry/wet VCDs per layer)\n",
    "profile_caltech = RTM.read_atmos_profile(file, myLat, myLon, timeIndex);\n",
    "\n",
    "# Compute layer optical thickness for Rayleigh (surface pressure in hPa) \n",
    "τRayl =  RTM.getRayleighLayerOptProp(profile_caltech.psurf/100, λ, depol, profile_caltech.vcd_dry);\n",
    "ϖRayl = ones(length(τRayl))\n",
    "\n",
    "#Compute Naer aerosol optical thickness profiles\n",
    "τAer_1 = RTM.getAerosolLayerOptProp(1.0, p₀[1], σp[1], profile_caltech.p_levels)\n",
    "τAer_2 = RTM.getAerosolLayerOptProp(0.3, p₀[2], σp[2], profile_caltech.p_levels)\n",
    "\n",
    "# Can be done with arbitrary length later:\n",
    "τAer = [τAer_1 τAer_2]\n",
    "@show sum(τAer_1), sum(τAer_2)\n",
    "ϖAer = [aerosol_optics_NAI2_aero1.ω̃ aerosol_optics_NAI2_aero2.ω̃];\n",
    "fᵗ   = [aerosol_optics_trunc_aero1.fᵗ aerosol_optics_trunc_aero2.fᵗ];\n"
   ]
  },
  {
   "cell_type": "code",
   "execution_count": 8,
   "metadata": {},
   "outputs": [
    {
     "output_type": "stream",
     "name": "stdout",
     "text": [
      "size([τAer_1 τAer_2]) = (73, 2)\n",
      "ϖAer = [0.9822643453151417 0.9693947188593625]\n",
      "ϖRayl = [1.0, 1.0, 1.0, 1.0, 1.0, 1.0, 1.0, 1.0, 1.0, 1.0, 1.0, 1.0, 1.0, 1.0, 1.0, 1.0, 1.0, 1.0, 1.0, 1.0, 1.0, 1.0, 1.0, 1.0, 1.0, 1.0, 1.0, 1.0, 1.0, 1.0, 1.0, 1.0, 1.0, 1.0, 1.0, 1.0, 1.0, 1.0, 1.0, 1.0, 1.0, 1.0, 1.0, 1.0, 1.0, 1.0, 1.0, 1.0, 1.0, 1.0, 1.0, 1.0, 1.0, 1.0, 1.0, 1.0, 1.0, 1.0, 1.0, 1.0, 1.0, 1.0, 1.0, 1.0, 1.0, 1.0, 1.0, 1.0, 1.0, 1.0, 1.0, 1.0]\n"
     ]
    },
    {
     "output_type": "execute_result",
     "data": {
      "text/plain": [
       "72-element Array{Float64,1}:\n",
       " 1.0\n",
       " 1.0\n",
       " 1.0\n",
       " 1.0\n",
       " 1.0\n",
       " 1.0\n",
       " 1.0\n",
       " 1.0\n",
       " 1.0\n",
       " 1.0\n",
       " 1.0\n",
       " 1.0\n",
       " 1.0\n",
       " ⋮\n",
       " 1.0\n",
       " 1.0\n",
       " 1.0\n",
       " 1.0\n",
       " 1.0\n",
       " 1.0\n",
       " 1.0\n",
       " 1.0\n",
       " 1.0\n",
       " 1.0\n",
       " 1.0\n",
       " 1.0"
      ]
     },
     "metadata": {},
     "execution_count": 8
    }
   ],
   "source": [
    "@show size([τAer_1 τAer_2])\n",
    "@show ϖAer\n",
    "@show ϖRayl"
   ]
  },
  {
   "cell_type": "code",
   "execution_count": 9,
   "metadata": {
    "tags": []
   },
   "outputs": [
    {
     "output_type": "stream",
     "name": "stdout",
     "text": [
      "(τ, ϖ) = (8.309208591510007e-6, 1.0)\n(τAer[iz, :], τRayl[iz]) = ([1.0921404610080213e-25, 9.601082758390844e-26], 8.309208591510007e-6)\n"
     ]
    },
    {
     "output_type": "execute_result",
     "data": {
      "text/plain": [
       "([1.0921404610080213e-25, 9.601082758390844e-26], 8.309208591510007e-6)"
      ]
     },
     "metadata": {},
     "execution_count": 9
    }
   ],
   "source": [
    "m = 0\n",
    "RaylZ⁺⁺, RaylZ⁻⁺     = PhaseFunction.compute_Z_moments(polarization_type, qp_μ, GreekRayleigh, m);\n",
    "aero1_Z⁺⁺, aero1_Z⁻⁺ = PhaseFunction.compute_Z_moments(polarization_type, qp_μ, aerosol_optics_trunc_aero1.greek_coefs, m);\n",
    "aero2_Z⁺⁺, aero2_Z⁻⁺ = PhaseFunction.compute_Z_moments(polarization_type, qp_μ, aerosol_optics_trunc_aero2.greek_coefs, m);\n",
    "\n",
    "Aer𝐙⁺⁺ = [aero1_Z⁺⁺, aero2_Z⁺⁺];\n",
    "Aer𝐙⁻⁺ = [aero1_Z⁻⁺, aero2_Z⁻⁺];\n",
    "\n",
    "iz = 10\n",
    "τ, ϖ, Z⁺⁺, Z⁻⁺  = RTM.construct_atm_layer(τRayl[iz], τAer[iz,:], ϖRayl[iz], ϖAer, fᵗ, RaylZ⁺⁺, RaylZ⁻⁺, Aer𝐙⁺⁺, Aer𝐙⁻⁺)\n",
    "@show τ, ϖ\n",
    "@show τAer[iz,:], τRayl[iz]"
   ]
  },
  {
   "cell_type": "code",
   "execution_count": 16,
   "metadata": {},
   "outputs": [
    {
     "output_type": "execute_result",
     "data": {
      "text/plain": [
       "(0.0023437499999999986, 7)"
      ]
     },
     "metadata": {},
     "execution_count": 16
    }
   ],
   "source": [
    "RTM.doubling_number(0.003, 0.3)"
   ]
  },
  {
   "cell_type": "code",
   "execution_count": null,
   "metadata": {},
   "outputs": [],
   "source": []
  }
 ]
}